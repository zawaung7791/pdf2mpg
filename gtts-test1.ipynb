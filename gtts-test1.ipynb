{
 "cells": [
  {
   "cell_type": "code",
   "execution_count": 1,
   "metadata": {},
   "outputs": [],
   "source": [
    "import os, PyPDF2\n",
    "from gtts import gTTS"
   ]
  },
  {
   "cell_type": "code",
   "execution_count": 2,
   "metadata": {},
   "outputs": [],
   "source": [
    "# function 1: Extract text from PDF\n",
    "def extract_text_from_pdf(pdf_path):\n",
    "    with open(pdf_path, 'rb') as pdf_file:\n",
    "        pdf_reader = PyPDF2.PdfReader(pdf_file)\n",
    "        text = \"\"\n",
    "        for page_num in range(len(pdf_reader.pages)):\n",
    "            page = pdf_reader.pages[page_num]\n",
    "            text += page.extract_text()\n",
    "        return text\n",
    "\n",
    "# function 2: Convert text to speech and save as MP3\n",
    "def text_to_speech(text, output_path):\n",
    "    tts = gTTS(text, lang='en')\n",
    "    tts.save(output_path)\n",
    "\n",
    "# Main function\n",
    "def convert(pdf_path, output_path):\n",
    "    print(\"Extracting text\")\n",
    "    text = extract_text_from_pdf(pdf_path)\n",
    "    print(\"Converting speech to MP3\")\n",
    "    text_to_speech(text, output_path)\n",
    "    print(f\"Conversion complete. MP3 saved at '{output_path}'\")"
   ]
  },
  {
   "cell_type": "code",
   "execution_count": 3,
   "metadata": {},
   "outputs": [
    {
     "name": "stdout",
     "output_type": "stream",
     "text": [
      "Extracting text\n",
      "Converting speech to MP3\n",
      "Conversion complete. MP3 saved at './outputs/gtts-onedrive.mp3'\n"
     ]
    }
   ],
   "source": [
    "if __name__ == \"__main__\":\n",
    "   \n",
    "    pdf_path = \"./files/onedrive.pdf\"  # Provide the path to the input PDF file\n",
    "    output_path = \"./outputs/gtts-onedrive.mp3\"  # Provide the desired path for the output MP3 file\n",
    "    \n",
    "    convert(pdf_path, output_path)"
   ]
  }
 ],
 "metadata": {
  "kernelspec": {
   "display_name": ".venv",
   "language": "python",
   "name": "python3"
  },
  "language_info": {
   "codemirror_mode": {
    "name": "ipython",
    "version": 3
   },
   "file_extension": ".py",
   "mimetype": "text/x-python",
   "name": "python",
   "nbconvert_exporter": "python",
   "pygments_lexer": "ipython3",
   "version": "3.11.4"
  },
  "orig_nbformat": 4
 },
 "nbformat": 4,
 "nbformat_minor": 2
}
